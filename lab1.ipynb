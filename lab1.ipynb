{
 "cells": [
  {
   "cell_type": "code",
   "execution_count": 1,
   "id": "8f1ac6d4-806f-4678-a09b-b6127e3a00df",
   "metadata": {},
   "outputs": [
    {
     "name": "stdout",
     "output_type": "stream",
     "text": [
      "0    1\n",
      "1    2\n",
      "2    3\n",
      "3    4\n",
      "dtype: int64\n"
     ]
    }
   ],
   "source": [
    "import pandas as dd\n",
    "data=[1,2,3,4]\n",
    "df=dd.Series(data)\n",
    "print(df)"
   ]
  },
  {
   "cell_type": "code",
   "execution_count": 2,
   "id": "fc671c0c-376e-4a05-aeac-4d844924041a",
   "metadata": {},
   "outputs": [
    {
     "name": "stdout",
     "output_type": "stream",
     "text": [
      "         Name  Age\n",
      "day1    mittu   25\n",
      "day2    pillu   30\n",
      "day3  karthik   35\n"
     ]
    }
   ],
   "source": [
    "import pandas as pd\n",
    "data = {\n",
    "'Name': ['mittu', 'pillu', 'karthik'],\n",
    "'Age': [25, 30, 35],\n",
    "}\n",
    "#df = pd.DataFrame(data)\n",
    "df = pd.DataFrame(data,index=[\"day1\",\"day2\",\"day3\"])\n",
    "print(df)"
   ]
  },
  {
   "cell_type": "code",
   "execution_count": 3,
   "id": "f9c82e44-8431-4068-92df-d622e2811a09",
   "metadata": {},
   "outputs": [
    {
     "name": "stdout",
     "output_type": "stream",
     "text": [
      "0    1\n",
      "1    1\n",
      "2    1\n",
      "3    3\n",
      "4    1\n",
      "5    6\n",
      "6    1\n",
      "7    3\n",
      "8    3\n",
      "9    4\n",
      "Name: Quantity, dtype: int64\n"
     ]
    }
   ],
   "source": [
    "import pandas as pd\n",
    "df = pd.read_csv('transactions.csv')\n",
    "#print(df.head()) \n",
    "#print(df.tail(5))\n",
    "#print(df.info())\n",
    "#print(df.describe())\n",
    "print(df['Quantity'])"
   ]
  },
  {
   "cell_type": "code",
   "execution_count": 31,
   "id": "129dbf92-44a3-46e8-94cb-db78b230ad03",
   "metadata": {},
   "outputs": [
    {
     "name": "stdout",
     "output_type": "stream",
     "text": [
      "   TransactionID TransactionDate  UserID  ProductID  Quantity\n",
      "0              1      2010-08-21     7.0          2         1\n",
      "1              2      2011-05-26     3.0          4         1\n",
      "2              3      2011-06-16     3.0          3         1\n",
      "3              4      2012-08-26     1.0          2         3\n",
      "4              5      2013-06-06     2.0          4         1\n"
     ]
    }
   ],
   "source": [
    "import pandas as pd\n",
    "df = pd.read_csv('transactions.csv')\n",
    "print(df.head(5)) "
   ]
  },
  {
   "cell_type": "code",
   "execution_count": 40,
   "id": "9942c698-a9ef-4096-83d9-ce0059dbf920",
   "metadata": {},
   "outputs": [
    {
     "name": "stdout",
     "output_type": "stream",
     "text": [
      "   TransactionID TransactionDate  UserID  ProductID  Quantity\n",
      "7              8      2014-04-24     NaN          2         3\n",
      "8              9      2015-04-24     7.0          4         3\n",
      "9             10      2016-05-08     3.0          4         4\n"
     ]
    }
   ],
   "source": [
    "import pandas as pd\n",
    "df = pd.read_csv('transactions.csv')\n",
    "print(df.tail(3)) "
   ]
  },
  {
   "cell_type": "code",
   "execution_count": 33,
   "id": "3778d6c8-1b20-47be-979d-633c1c360711",
   "metadata": {},
   "outputs": [
    {
     "name": "stdout",
     "output_type": "stream",
     "text": [
      "<class 'pandas.core.frame.DataFrame'>\n",
      "RangeIndex: 10 entries, 0 to 9\n",
      "Data columns (total 5 columns):\n",
      " #   Column           Non-Null Count  Dtype  \n",
      "---  ------           --------------  -----  \n",
      " 0   TransactionID    10 non-null     int64  \n",
      " 1   TransactionDate  10 non-null     object \n",
      " 2   UserID           9 non-null      float64\n",
      " 3   ProductID        10 non-null     int64  \n",
      " 4   Quantity         10 non-null     int64  \n",
      "dtypes: float64(1), int64(3), object(1)\n",
      "memory usage: 532.0+ bytes\n",
      "None\n"
     ]
    }
   ],
   "source": [
    "import pandas as pd\n",
    "df = pd.read_csv('transactions.csv')\n",
    "print(df.info()) "
   ]
  },
  {
   "cell_type": "code",
   "execution_count": 34,
   "id": "5ba8e531-41dd-4037-b064-02c23df10a37",
   "metadata": {},
   "outputs": [
    {
     "name": "stdout",
     "output_type": "stream",
     "text": [
      "       TransactionID    UserID  ProductID   Quantity\n",
      "count       10.00000  9.000000  10.000000  10.000000\n",
      "mean         5.50000  3.444444   3.400000   2.400000\n",
      "std          3.02765  2.127858   1.074968   1.712698\n",
      "min          1.00000  1.000000   2.000000   1.000000\n",
      "25%          3.25000  2.000000   2.250000   1.000000\n",
      "50%          5.50000  3.000000   4.000000   2.000000\n",
      "75%          7.75000  3.000000   4.000000   3.000000\n",
      "max         10.00000  7.000000   5.000000   6.000000\n"
     ]
    }
   ],
   "source": [
    "import pandas as pd\n",
    "df = pd.read_csv('transactions.csv')\n",
    "print(df.describe()) "
   ]
  },
  {
   "cell_type": "code",
   "execution_count": 36,
   "id": "62299265-ad88-4c61-ae81-334a3c372cc2",
   "metadata": {},
   "outputs": [
    {
     "name": "stdout",
     "output_type": "stream",
     "text": [
      "0    1\n",
      "1    1\n",
      "2    1\n",
      "3    3\n",
      "4    1\n",
      "5    6\n",
      "6    1\n",
      "7    3\n",
      "8    3\n",
      "9    4\n",
      "Name: Quantity, dtype: int64\n"
     ]
    }
   ],
   "source": [
    "import pandas as pd\n",
    "df = pd.read_csv('transactions.csv')\n",
    "print(df['Quantity'])"
   ]
  },
  {
   "cell_type": "code",
   "execution_count": 9,
   "id": "87d7abe4-0948-4b5b-a6ac-1d11fdcbbf19",
   "metadata": {},
   "outputs": [
    {
     "name": "stdout",
     "output_type": "stream",
     "text": [
      "   UserID  Quantity  ProductID\n",
      "0     7.0         1          2\n",
      "1     3.0         1          4\n",
      "2     3.0         1          3\n",
      "3     1.0         3          2\n",
      "4     2.0         1          4\n",
      "5     2.0         6          5\n",
      "6     3.0         1          4\n",
      "7     NaN         3          2\n",
      "8     7.0         3          4\n",
      "9     3.0         4          4\n"
     ]
    }
   ],
   "source": [
    "import pandas as pd\n",
    "df = pd.read_csv('transactions.csv')\n",
    "print(df[['UserID', 'Quantity','ProductID']])\n"
   ]
  },
  {
   "cell_type": "code",
   "execution_count": 48,
   "id": "e46303a0-26e9-4783-8d4e-5e3842a87a95",
   "metadata": {},
   "outputs": [
    {
     "name": "stdout",
     "output_type": "stream",
     "text": [
      "TransactionID              10\n",
      "TransactionDate    2016-05-08\n",
      "UserID                    3.0\n",
      "ProductID                   4\n",
      "Quantity                    4\n",
      "Name: 9, dtype: object\n"
     ]
    }
   ],
   "source": [
    "import pandas as pd\n",
    "df = pd.read_csv('transactions.csv')\n",
    "print(df.iloc[9])#PRINT ROW NUMBER DATA"
   ]
  },
  {
   "cell_type": "code",
   "execution_count": 49,
   "id": "f112136a-5aa3-4750-8100-6b3961c61f12",
   "metadata": {},
   "outputs": [
    {
     "name": "stdout",
     "output_type": "stream",
     "text": [
      "   TransactionID TransactionDate  UserID  ProductID  Quantity\n",
      "1              2      2011-05-26     3.0          4         1\n",
      "3              4      2012-08-26     1.0          2         3\n",
      "5              6      2013-12-23     2.0          5         6\n",
      "7              8      2014-04-24     NaN          2         3\n",
      "9             10      2016-05-08     3.0          4         4\n"
     ]
    }
   ],
   "source": [
    "import pandas as pd\n",
    "df = pd.read_csv('transactions.csv')\n",
    "print(df.iloc[[1, 3, 5, 7, 9]])  # Prints only rows 1, 3, 5, 7, and 9\n"
   ]
  },
  {
   "cell_type": "code",
   "execution_count": 53,
   "id": "12eb1a94-0769-4ea1-9270-c6849685f6ba",
   "metadata": {},
   "outputs": [
    {
     "name": "stdout",
     "output_type": "stream",
     "text": [
      "   UserID  ProductID  Quantity\n",
      "0     7.0          2         1\n",
      "1     3.0          4         1\n",
      "2     3.0          3         1\n",
      "3     1.0          2         3\n",
      "4     2.0          4         1\n",
      "5     2.0          5         6\n",
      "6     3.0          4         1\n",
      "7     NaN          2         3\n",
      "8     7.0          4         3\n",
      "9     3.0          4         4\n"
     ]
    }
   ],
   "source": [
    "import pandas as pd\n",
    "df = pd.read_csv('transactions.csv')\n",
    "#print(df['UserID'])  # Replace 'column_name' with the actual column name\n",
    "print(df.iloc[:, [2, 3, 4]])  # Replace with the correct column indices\n"
   ]
  },
  {
   "cell_type": "markdown",
   "id": "9e436415-abe1-4ae3-989e-9248d67ed3fb",
   "metadata": {},
   "source": [
    "# Filtering Data"
   ]
  },
  {
   "cell_type": "code",
   "execution_count": 10,
   "id": "339b4c81-5350-4fa7-8d9e-a8f9939a1453",
   "metadata": {},
   "outputs": [
    {
     "name": "stdout",
     "output_type": "stream",
     "text": [
      "   TransactionID TransactionDate  UserID  ProductID  Quantity\n",
      "3              4      2012-08-26     1.0          2         3\n",
      "5              6      2013-12-23     2.0          5         6\n",
      "7              8      2014-04-24     NaN          2         3\n",
      "8              9      2015-04-24     7.0          4         3\n",
      "9             10      2016-05-08     3.0          4         4\n"
     ]
    }
   ],
   "source": [
    "import pandas as pd\n",
    "df = pd.read_csv('transactions.csv')\n",
    "filtered_df = df[df['Quantity'] >= 3]\n",
    "print(filtered_df)"
   ]
  },
  {
   "cell_type": "code",
   "execution_count": 61,
   "id": "2455d0d9-3a7d-4934-8834-e0275ed2de2c",
   "metadata": {},
   "outputs": [
    {
     "name": "stdout",
     "output_type": "stream",
     "text": [
      "   TransactionID TransactionDate  UserID  ProductID  Quant\n",
      "0              1      2010-08-21     7.0          2      1\n",
      "1              2      2011-05-26     3.0          4      1\n",
      "2              3      2011-06-16     3.0          3      1\n",
      "3              4      2012-08-26     1.0          2      3\n",
      "4              5      2013-06-06     2.0          4      1\n"
     ]
    }
   ],
   "source": [
    "import pandas as pd\n",
    "df = pd.read_csv(\"transactions.csv\")\n",
    "df.rename(columns={\"Quantity\": \"Quant\"}, inplace=True)\n",
    "print(df.head())"
   ]
  },
  {
   "cell_type": "code",
   "execution_count": 62,
   "id": "4f7b6971-ab54-4330-a90b-36551c0a28a1",
   "metadata": {},
   "outputs": [
    {
     "name": "stdout",
     "output_type": "stream",
     "text": [
      "   TransactionID TransactionDate  UserID  ProductID  Quantity\n",
      "0              1      2010-08-21     7.0          2         1\n",
      "1              2      2011-05-26     3.0          4         1\n",
      "2              3      2011-06-16     3.0          3         1\n",
      "3              4      2012-08-26     1.0          2         3\n",
      "4              5      2013-06-06     2.0          4         1\n"
     ]
    }
   ],
   "source": [
    "import pandas as pd\n",
    "df = pd.read_csv(\"transactions.csv\")\n",
    "df.rename(columns={\"Quantity\": \"Quant\"}, inplace=False)\n",
    "print(df.head())"
   ]
  },
  {
   "cell_type": "code",
   "execution_count": 4,
   "id": "35509818-efdd-4c1f-9c63-29dcfd541d4f",
   "metadata": {},
   "outputs": [
    {
     "name": "stdout",
     "output_type": "stream",
     "text": [
      "   TransactionID TransactionDate  UserID  pid  Quant\n",
      "0              1      2010-08-21     7.0    2      1\n",
      "1              2      2011-05-26     3.0    4      1\n",
      "2              3      2011-06-16     3.0    3      1\n",
      "3              4      2012-08-26     1.0    2      3\n",
      "4              5      2013-06-06     2.0    4      1\n",
      "5              6      2013-12-23     2.0    5      6\n",
      "6              7      2013-12-30     3.0    4      1\n",
      "7              8      2014-04-24     NaN    2      3\n"
     ]
    }
   ],
   "source": [
    "import pandas as divya\n",
    "df = divya.read_csv(\"transactions.csv\")\n",
    "df.rename(columns={\"Quantity\": \"Quant\", \"ProductID\": \"pid\"}, inplace=True)\n",
    "print(df.head(8))"
   ]
  },
  {
   "cell_type": "code",
   "execution_count": 78,
   "id": "082da2e3-0b80-4296-9881-21fcd4c58c73",
   "metadata": {},
   "outputs": [
    {
     "name": "stdout",
     "output_type": "stream",
     "text": [
      "TransactionID      0\n",
      "TransactionDate    0\n",
      "UserID             0\n",
      "pid                0\n",
      "Quant              0\n",
      "dtype: int64\n"
     ]
    }
   ],
   "source": [
    "print(df.isnull().sum())"
   ]
  },
  {
   "cell_type": "code",
   "execution_count": 11,
   "id": "d408dbc3-cbd5-4b6c-850c-49add1fac603",
   "metadata": {},
   "outputs": [
    {
     "name": "stdout",
     "output_type": "stream",
     "text": [
      "   TransactionID TransactionDate    UserID  ProductID  Quantity\n",
      "0              1      2010-08-21  7.000000          2         1\n",
      "1              2      2011-05-26  3.000000          4         1\n",
      "2              3      2011-06-16  3.000000          3         1\n",
      "3              4      2012-08-26  1.000000          2         3\n",
      "4              5      2013-06-06  2.000000          4         1\n",
      "5              6      2013-12-23  2.000000          5         6\n",
      "6              7      2013-12-30  3.000000          4         1\n",
      "7              8      2014-04-24  3.444444          2         3\n",
      "8              9      2015-04-24  7.000000          4         3\n",
      "9             10      2016-05-08  3.000000          4         4\n"
     ]
    }
   ],
   "source": [
    "df['UserID'].fillna(df['UserID'].mean(), inplace=True)\n",
    "print(df)"
   ]
  },
  {
   "cell_type": "code",
   "execution_count": 75,
   "id": "294d8f50-91e0-490b-93a7-ef3b85acbd10",
   "metadata": {},
   "outputs": [
    {
     "name": "stdout",
     "output_type": "stream",
     "text": [
      "0\n"
     ]
    }
   ],
   "source": [
    "print(df[\"Quant\"].isnull().sum())\n"
   ]
  },
  {
   "cell_type": "code",
   "execution_count": 79,
   "id": "f55ff54c-febc-4b62-9cab-6f9e389b6bbf",
   "metadata": {},
   "outputs": [
    {
     "name": "stdout",
     "output_type": "stream",
     "text": [
      "TransactionID      0\n",
      "TransactionDate    0\n",
      "UserID             0\n",
      "pid                0\n",
      "Quant              0\n",
      "dtype: int64\n"
     ]
    }
   ],
   "source": [
    "print(df.isnull().sum())"
   ]
  },
  {
   "cell_type": "code",
   "execution_count": 82,
   "id": "684c827f-a340-41e2-a646-aed606ab37db",
   "metadata": {},
   "outputs": [],
   "source": [
    "df.dropna(inplace=True)"
   ]
  },
  {
   "cell_type": "code",
   "execution_count": 85,
   "id": "e77bfeca-832d-4b3f-94b0-174b6ecbc4f0",
   "metadata": {},
   "outputs": [],
   "source": [
    "df.dropna(subset=[\"Quant\"], inplace=True)\n"
   ]
  },
  {
   "cell_type": "code",
   "execution_count": 86,
   "id": "265082dc-8e2c-4714-ac54-88c2a804c163",
   "metadata": {},
   "outputs": [
    {
     "name": "stdout",
     "output_type": "stream",
     "text": [
      "   TransactionID TransactionDate    UserID  pid  Quant\n",
      "0              1      2010-08-21  7.000000    2      1\n",
      "1              2      2011-05-26  3.000000    4      1\n",
      "2              3      2011-06-16  3.000000    3      1\n",
      "3              4      2012-08-26  1.000000    2      3\n",
      "4              5      2013-06-06  2.000000    4      1\n",
      "5              6      2013-12-23  2.000000    5      6\n",
      "6              7      2013-12-30  3.000000    4      1\n",
      "7              8      2014-04-24  3.444444    2      3\n",
      "8              9      2015-04-24  7.000000    4      3\n",
      "9             10      2016-05-08  3.000000    4      4\n"
     ]
    }
   ],
   "source": [
    "df['UserID'].fillna(df['UserID'].mean(), inplace=True)\n",
    "print(df)"
   ]
  },
  {
   "cell_type": "code",
   "execution_count": 6,
   "id": "b15e573b-c3a3-4479-8150-b1a83c4e8015",
   "metadata": {},
   "outputs": [
    {
     "name": "stdout",
     "output_type": "stream",
     "text": [
      "   TransactionID TransactionDate  UserID  ProductID  Quantity\n",
      "0              1      2010-08-21     7.0          2         1\n",
      "1              2      2011-05-26     3.0          4         1\n",
      "2              3      2011-06-16     3.0          3         1\n",
      "3              4      2012-08-26     1.0          2         3\n",
      "4              5      2013-06-06     2.0          4         1\n",
      "5              6      2013-12-23     2.0          5         6\n",
      "6              7      2013-12-30     3.0          4         1\n",
      "7              8      2014-04-24     NaN          2         3\n",
      "8              9      2015-04-24     7.0          4         3\n",
      "9             10      2016-05-08     3.0          4         4\n"
     ]
    }
   ],
   "source": [
    "import pandas as pd\n",
    "df = pd.read_csv(\"transactions.csv\")\n",
    "#df.dropna(inplace=True)\n",
    "print(df)"
   ]
  },
  {
   "cell_type": "code",
   "execution_count": 91,
   "id": "08f7d5ae-8519-4d3e-9709-ff4a75445d7d",
   "metadata": {},
   "outputs": [
    {
     "name": "stdout",
     "output_type": "stream",
     "text": [
      "   TransactionID TransactionDate  UserID  ProductID  Quantity\n",
      "6              7      2013-12-30     3.0          4         1\n",
      "4              5      2013-06-06     2.0          4         1\n",
      "2              3      2011-06-16     3.0          3         1\n",
      "1              2      2011-05-26     3.0          4         1\n",
      "0              1      2010-08-21     7.0          2         1\n"
     ]
    }
   ],
   "source": [
    "import pandas as pd\n",
    "df = pd.read_csv(\"transactions.csv\")\n",
    "df_sorted = df.sort_values(by=[\"Quantity\", \"TransactionDate\"],\n",
    "ascending=[True, False])\n",
    "print(df_sorted.head())"
   ]
  },
  {
   "cell_type": "code",
   "execution_count": 94,
   "id": "391f7191-f7c6-437f-8c1f-ac101cdfbe17",
   "metadata": {},
   "outputs": [
    {
     "name": "stdout",
     "output_type": "stream",
     "text": [
      "   TransactionID TransactionDate  UserID  ProductID  Quantity\n",
      "5              6      2013-12-23     2.0          5         6\n",
      "9             10      2016-05-08     3.0          4         4\n",
      "3              4      2012-08-26     1.0          2         3\n",
      "7              8      2014-04-24     NaN          2         3\n",
      "8              9      2015-04-24     7.0          4         3\n"
     ]
    }
   ],
   "source": [
    "import pandas as pd\n",
    "df = pd.read_csv(\"transactions.csv\")\n",
    "df_sorted = df.sort_values(by=[\"Quantity\", \"TransactionDate\"],\n",
    "ascending=[False, True])\n",
    "print(df_sorted.head())"
   ]
  },
  {
   "cell_type": "code",
   "execution_count": 98,
   "id": "e7de5a32-be89-4f9a-a113-e19fd92dc632",
   "metadata": {},
   "outputs": [
    {
     "name": "stdout",
     "output_type": "stream",
     "text": [
      "   TransactionID TransactionDate  UserID  ProductID  Quantity\n",
      "0              1      2010-08-21     7.0          2         1\n",
      "1              2      2011-05-26     3.0          4         1\n",
      "2              3      2011-06-16     3.0          3         1\n",
      "3              4      2012-08-26     1.0          2         3\n",
      "4              5      2013-06-06     2.0          4         1\n",
      "5              6      2013-12-23     2.0          5         6\n",
      "6              7      2013-12-30     3.0          4         1\n",
      "7              8      2014-04-24     NaN          2         3\n",
      "8              9      2015-04-24     7.0          4         3\n",
      "9             10      2016-05-08     3.0          4         4\n"
     ]
    }
   ],
   "source": [
    "import pandas as pd\n",
    "df = pd.read_csv('transactions.csv')\n",
    "print(df.head(10)) \n",
    "#subset = df[df['Quantity'] > 1]\n",
    "#print(subset)"
   ]
  },
  {
   "cell_type": "code",
   "execution_count": 99,
   "id": "1dd10029-fb3f-475f-912e-5fa2097f2354",
   "metadata": {},
   "outputs": [
    {
     "name": "stdout",
     "output_type": "stream",
     "text": [
      "   TransactionID TransactionDate  UserID  ProductID  Quantity\n",
      "3              4      2012-08-26     1.0          2         3\n",
      "5              6      2013-12-23     2.0          5         6\n",
      "7              8      2014-04-24     NaN          2         3\n",
      "8              9      2015-04-24     7.0          4         3\n",
      "9             10      2016-05-08     3.0          4         4\n"
     ]
    }
   ],
   "source": [
    "subset = df[df['Quantity'] > 1]\n",
    "print(subset)"
   ]
  },
  {
   "cell_type": "code",
   "execution_count": 100,
   "id": "e3deae62-ebcd-428c-8e41-271247df8788",
   "metadata": {},
   "outputs": [
    {
     "name": "stdout",
     "output_type": "stream",
     "text": [
      "   TransactionID TransactionDate  UserID  ProductID  Quantity\n",
      "1              2      2011-05-26     3.0          4         1\n",
      "2              3      2011-06-16     3.0          3         1\n",
      "3              4      2012-08-26     1.0          2         3\n",
      "5              6      2013-12-23     2.0          5         6\n",
      "6              7      2013-12-30     3.0          4         1\n",
      "7              8      2014-04-24     NaN          2         3\n",
      "8              9      2015-04-24     7.0          4         3\n",
      "9             10      2016-05-08     3.0          4         4\n"
     ]
    }
   ],
   "source": [
    "# Using | to combine conditions: Quantity > 1 OR UserID == 3\n",
    "subset = df[(df['Quantity'] > 1) | (df['UserID'] == 3)]\n",
    "print(subset)\n"
   ]
  },
  {
   "cell_type": "code",
   "execution_count": 101,
   "id": "2a1259d8-79ae-425e-a635-8c08a2757484",
   "metadata": {},
   "outputs": [
    {
     "name": "stdout",
     "output_type": "stream",
     "text": [
      "   TransactionID TransactionDate  UserID  ProductID  Quantity\n",
      "9             10      2016-05-08     3.0          4         4\n"
     ]
    }
   ],
   "source": [
    "# Using | to combine conditions: Quantity > 1 OR UserID == 3\n",
    "subset = df[(df['Quantity'] > 1) & (df['UserID'] == 3)]\n",
    "print(subset)\n"
   ]
  },
  {
   "cell_type": "code",
   "execution_count": 102,
   "id": "6fe800ec-989c-4237-a260-4178d9809edf",
   "metadata": {},
   "outputs": [
    {
     "name": "stdout",
     "output_type": "stream",
     "text": [
      "   TransactionID TransactionDate  UserID  ProductID  Quantity\n",
      "0              1      2010-08-21     7.0          2         1\n",
      "2              3      2011-06-16     3.0          3         1\n",
      "5              6      2013-12-23     2.0          5         6\n"
     ]
    }
   ],
   "source": [
    "subset_rows = df.iloc[[0, 2, 5]]\n",
    "print(subset_rows)"
   ]
  },
  {
   "cell_type": "code",
   "execution_count": 4,
   "id": "a26dad4e-b05b-4475-8ae9-58d7a3e085b5",
   "metadata": {},
   "outputs": [
    {
     "name": "stdout",
     "output_type": "stream",
     "text": [
      "   TransactionID TransactionDate  UserID  ProductID  Quantity\n",
      "0              1      2010-08-21     7.0          2         1\n",
      "2              3      2011-06-16     3.0          3         1\n",
      "4              5      2013-06-06     2.0          4         1\n",
      "5              6      2013-12-23     2.0          5         6\n",
      "7              8      2014-04-24     NaN          2         3\n",
      "9             10      2016-05-08     3.0          4         4\n"
     ]
    }
   ],
   "source": [
    "foo = [True, False, True, False,True,True, False, True, False,True] # Example of a boolean array\n",
    "subset_rows = df[foo]\n",
    "print(subset_rows)"
   ]
  },
  {
   "cell_type": "code",
   "execution_count": 108,
   "id": "7ede1e50-e54a-4170-838d-9f020ea1acea",
   "metadata": {},
   "outputs": [
    {
     "name": "stdout",
     "output_type": "stream",
     "text": [
      "   TransactionID TransactionDate\n",
      "3              4      2012-08-26\n",
      "5              6      2013-12-23\n",
      "7              8      2014-04-24\n",
      "8              9      2015-04-24\n",
      "9             10      2016-05-08\n"
     ]
    }
   ],
   "source": [
    "subset = df[df['Quantity'] > 1][['TransactionID',\n",
    "'TransactionDate']]\n",
    "print(subset)"
   ]
  },
  {
   "cell_type": "code",
   "execution_count": 109,
   "id": "c66a8a10-1e29-4cbd-b35b-35718e2fc322",
   "metadata": {},
   "outputs": [
    {
     "name": "stdout",
     "output_type": "stream",
     "text": [
      "   TransactionID TransactionDate\n",
      "0              1      2010-08-21\n",
      "1              2      2011-05-26\n",
      "2              3      2011-06-16\n",
      "3              4      2012-08-26\n",
      "4              5      2013-06-06\n",
      "5              6      2013-12-23\n",
      "6              7      2013-12-30\n",
      "7              8      2014-04-24\n",
      "8              9      2015-04-24\n",
      "9             10      2016-05-08\n"
     ]
    }
   ],
   "source": [
    "columns_to_select = ['TransactionID', 'TransactionDate']\n",
    "subset_columns = df[columns_to_select]\n",
    "print(subset_columns)"
   ]
  },
  {
   "cell_type": "code",
   "execution_count": 110,
   "id": "6d281f04-cf10-4c64-a765-b58dfce740ab",
   "metadata": {},
   "outputs": [
    {
     "name": "stdout",
     "output_type": "stream",
     "text": [
      "   TransactionID TransactionDate  UserID\n",
      "0              1      2010-08-21     7.0\n",
      "1              2      2011-05-26     3.0\n",
      "2              3      2011-06-16     3.0\n",
      "3              4      2012-08-26     1.0\n",
      "4              5      2013-06-06     2.0\n",
      "5              6      2013-12-23     2.0\n",
      "6              7      2013-12-30     3.0\n",
      "7              8      2014-04-24     NaN\n",
      "8              9      2015-04-24     7.0\n",
      "9             10      2016-05-08     3.0\n"
     ]
    }
   ],
   "source": [
    "columns_to_exclude = ['Quantity', 'ProductID']\n",
    "subset_columns_excluded = df[[col for col in df.columns if col not\n",
    "in columns_to_exclude]]\n",
    "print(subset_columns_excluded)"
   ]
  },
  {
   "cell_type": "code",
   "execution_count": 111,
   "id": "c406bd24-0215-434f-bff5-bf4205414b73",
   "metadata": {},
   "outputs": [
    {
     "name": "stdout",
     "output_type": "stream",
     "text": [
      "   TransactionID TransactionDate  UserID  ProductID  Quantity\n",
      "0              1      2010-08-21     7.0          2         1\n",
      "1              2      2011-05-26     3.0          4         1\n",
      "2              3      2011-06-16     3.0          3         1\n"
     ]
    }
   ],
   "source": [
    "# Select the first 3 rows\n",
    "subset_rows_by_index = df.iloc[:3]\n",
    "print(subset_rows_by_index)\n"
   ]
  },
  {
   "cell_type": "code",
   "execution_count": 5,
   "id": "17f7046b-9490-496e-9425-0c7758cbcb4e",
   "metadata": {},
   "outputs": [
    {
     "name": "stdout",
     "output_type": "stream",
     "text": [
      "TransactionID               int64\n",
      "TransactionDate    datetime64[ns]\n",
      "UserID                    float64\n",
      "ProductID                   int64\n",
      "Quantity                    int64\n",
      "dtype: object\n"
     ]
    }
   ],
   "source": [
    "df['TransactionDate'] = pd.to_datetime(df['TransactionDate'])\n",
    "print(df.dtypes)"
   ]
  },
  {
   "cell_type": "code",
   "execution_count": 115,
   "id": "a235e97b-6c87-48e9-8007-e754375144b0",
   "metadata": {},
   "outputs": [
    {
     "name": "stdout",
     "output_type": "stream",
     "text": [
      "   TransactionID TransactionDate  UserID  ProductID  Quantity  Foo  Foosum\n",
      "0              1      2010-08-21     7.0          2         1  9.0     9.0\n",
      "1              2      2011-05-26     3.0          4         1  7.0     7.0\n",
      "2              3      2011-06-16     3.0          3         1  6.0     6.0\n",
      "3              4      2012-08-26     1.0          2         3  3.0     3.0\n",
      "4              5      2013-06-06     2.0          4         1  6.0     6.0\n"
     ]
    }
   ],
   "source": [
    "df['Foo'] = df['UserID'] + df['df.loc[df['UserID'] == 2, 'Quantity'] = new_quantity_valueProductID']\n",
    "print(df.head())"
   ]
  },
  {
   "cell_type": "code",
   "execution_count": 136,
   "id": "214185e2-bb3e-473b-a559-1be8f6438ca3",
   "metadata": {},
   "outputs": [
    {
     "name": "stdout",
     "output_type": "stream",
     "text": [
      "    TransactionID TransactionDate  UserID  ProductID  Quantity\n",
      "0               1      2010-08-21     7.0          2         1\n",
      "1               2      2011-05-26     3.0          4         1\n",
      "2               3      2011-06-16     3.0          3         1\n",
      "3               4      2012-08-26     1.0          2         3\n",
      "4               5      2013-06-06     2.0          4         1\n",
      "5               6      2013-12-23     2.0          5         6\n",
      "6               7      2013-12-30     3.0          4         1\n",
      "7               8      2014-04-24     NaN          2         3\n",
      "8               9      2015-04-24     7.0          4         3\n",
      "9              10      2016-05-08     3.0          4         4\n",
      "10             12      2022-07-14    44.0         23        62\n"
     ]
    }
   ],
   "source": [
    "import pandas as pd\n",
    "df = pd.read_csv(\"transactions.csv\")\n",
    "df.loc[len(df)] = [12,'2022-07-14',44,23,62]\n",
    "print(df)"
   ]
  },
  {
   "cell_type": "code",
   "execution_count": 143,
   "id": "fe9d3f13-6337-4b01-86bb-5f7257f75d12",
   "metadata": {},
   "outputs": [
    {
     "name": "stdout",
     "output_type": "stream",
     "text": [
      "   TransactionID TransactionDate  UserID  ProductID  Quantity  NewColumn\n",
      "0              1      2010-08-21     7.0          2         1          2\n",
      "1              2      2011-05-26     3.0          4         1          2\n",
      "2              3      2011-06-16     3.0          3         1          2\n",
      "3              4      2012-08-26     1.0          2         3          6\n",
      "4              5      2013-06-06     2.0          4         1          2\n"
     ]
    }
   ],
   "source": [
    "df['NewColumn'] = df['Quantity'] * 2\n",
    "print(df.head())"
   ]
  },
  {
   "cell_type": "markdown",
   "id": "339f061d-123d-4b18-8682-8ca902e67737",
   "metadata": {},
   "source": [
    "# excersice problem"
   ]
  },
  {
   "cell_type": "code",
   "execution_count": 7,
   "id": "22a441f7-95d4-472c-83f0-16f8480300bd",
   "metadata": {},
   "outputs": [
    {
     "name": "stdout",
     "output_type": "stream",
     "text": [
      "   TransactionID TransactionDate  UserID  ProductID  Quantity\n",
      "0              1      2010-08-21     7.0          2         1\n",
      "1              2      2011-05-26     3.0          4         1\n",
      "2              3      2011-06-16     3.0          3         1\n",
      "3              4      2012-08-26     1.0          2         3\n",
      "4              5      2013-06-06     2.0          4         1\n",
      "5              6      2013-12-23     2.0          5         6\n",
      "6              7      2013-12-30     3.0          4         1\n",
      "7              8      2014-04-24     NaN          2         3\n",
      "8              9      2015-04-24     7.0          4         3\n",
      "9             10      2016-05-08     3.0          4         4\n"
     ]
    }
   ],
   "source": [
    "import pandas as pd\n",
    "df = pd.read_csv('transactions.csv')\n",
    "print(df.head(10))"
   ]
  },
  {
   "cell_type": "code",
   "execution_count": 8,
   "id": "f5cff6c3-3e91-4bab-a360-dc88a74f93b6",
   "metadata": {},
   "outputs": [
    {
     "name": "stdout",
     "output_type": "stream",
     "text": [
      "Summary of the dataset:\n",
      "       TransactionID    UserID  ProductID   Quantity\n",
      "count       10.00000  9.000000  10.000000  10.000000\n",
      "mean         5.50000  3.444444   3.400000   2.400000\n",
      "std          3.02765  2.127858   1.074968   1.712698\n",
      "min          1.00000  1.000000   2.000000   1.000000\n",
      "25%          3.25000  2.000000   2.250000   1.000000\n",
      "50%          5.50000  3.000000   4.000000   2.000000\n",
      "75%          7.75000  3.000000   4.000000   3.000000\n",
      "max         10.00000  7.000000   5.000000   6.000000\n"
     ]
    }
   ],
   "source": [
    "import pandas as pd\n",
    "\n",
    "#  Import the dataset\n",
    "df = pd.read_csv('transactions.csv')\n",
    "\n",
    "# Print summary of the dataset\n",
    "print(\"Summary of the dataset:\")\n",
    "print(df.describe())\n",
    "\n"
   ]
  },
  {
   "cell_type": "code",
   "execution_count": 9,
   "id": "e284937e-1094-4d70-9c4b-57595df9a9d8",
   "metadata": {},
   "outputs": [
    {
     "name": "stdout",
     "output_type": "stream",
     "text": [
      "\n",
      "Number of attributes (columns): 5\n"
     ]
    }
   ],
   "source": [
    "\n",
    "# Print number of attributes (columns)\n",
    "print(\"\\nNumber of attributes (columns):\", df.shape[1])"
   ]
  },
  {
   "cell_type": "code",
   "execution_count": 157,
   "id": "ae97dd6f-2165-412b-8432-abf83d22de54",
   "metadata": {},
   "outputs": [
    {
     "name": "stdout",
     "output_type": "stream",
     "text": [
      "Number of records (rows): 10\n"
     ]
    }
   ],
   "source": [
    "#Print number of records (rows)\n",
    "print(\"Number of records (rows):\", df.shape[0])\n"
   ]
  },
  {
   "cell_type": "code",
   "execution_count": 10,
   "id": "54fe707d-ce3a-4824-a33c-1132aa03ed20",
   "metadata": {},
   "outputs": [
    {
     "name": "stdout",
     "output_type": "stream",
     "text": [
      "\n",
      "Row names (index): [0, 1, 2, 3, 4, 5, 6, 7, 8, 9]\n"
     ]
    }
   ],
   "source": [
    "#Get the row names (index)\n",
    "print(\"\\nRow names (index):\", df.index.tolist())"
   ]
  },
  {
   "cell_type": "code",
   "execution_count": 12,
   "id": "23793a65-273c-4ce1-910e-8971e29338c6",
   "metadata": {},
   "outputs": [
    {
     "name": "stdout",
     "output_type": "stream",
     "text": [
      "\n",
      "Column names: ['TransactionID', 'TransactionDate', 'UserID', 'ProductID', 'Quantity']\n"
     ]
    }
   ],
   "source": [
    "# Get the column names\n",
    "print(\"\\nColumn names:\", df.columns.tolist())\n"
   ]
  },
  {
   "cell_type": "code",
   "execution_count": 9,
   "id": "194f0698-f146-4dee-a8f9-6f17b44362b2",
   "metadata": {},
   "outputs": [
    {
     "name": "stdout",
     "output_type": "stream",
     "text": [
      "\n",
      "Top 10 records:\n",
      "   TransactionID TransactionDate  UserID  ProductID  Quantity\n",
      "0              1      2010-08-21     7.0          2         1\n",
      "1              2      2011-05-26     3.0          4         1\n",
      "2              3      2011-06-16     3.0          3         1\n",
      "3              4      2012-08-26     1.0          2         3\n",
      "4              5      2013-06-06     2.0          4         1\n",
      "5              6      2013-12-23     2.0          5         6\n",
      "6              7      2013-12-30     3.0          4         1\n",
      "7              8      2014-04-24     NaN          2         3\n",
      "8              9      2015-04-24     7.0          4         3\n",
      "9             10      2016-05-08     3.0          4         4\n"
     ]
    }
   ],
   "source": [
    "print(\"\\nTop 10 records:\")\n",
    "print(df.head(10))\n"
   ]
  },
  {
   "cell_type": "code",
   "execution_count": 12,
   "id": "c0b7cc92-7acb-4310-92c1-9b4644dc7f50",
   "metadata": {},
   "outputs": [],
   "source": [
    "# Step 8: Change the name of column \"Quantity\" to \"Quant\"\n",
    "df.rename(columns={'Quantity': 'Quant'}, inplace=True)"
   ]
  },
  {
   "cell_type": "code",
   "execution_count": 13,
   "id": "698cf291-767c-40a0-8f89-e6bc50a35839",
   "metadata": {},
   "outputs": [
    {
     "name": "stdout",
     "output_type": "stream",
     "text": [
      "   TransactionID TransactionDate  UserID  ProductID  Quant\n",
      "0              1      2010-08-21     7.0          2      1\n",
      "1              2      2011-05-26     3.0          4      1\n",
      "2              3      2011-06-16     3.0          3      1\n",
      "3              4      2012-08-26     1.0          2      3\n",
      "4              5      2013-06-06     2.0          4      1\n",
      "5              6      2013-12-23     2.0          5      6\n",
      "6              7      2013-12-30     3.0          4      1\n",
      "7              8      2014-04-24     NaN          2      3\n",
      "8              9      2015-04-24     7.0          4      3\n",
      "9             10      2016-05-08     3.0          4      4\n"
     ]
    }
   ],
   "source": [
    "print(df)"
   ]
  },
  {
   "cell_type": "code",
   "execution_count": 11,
   "id": "59d2f2c9",
   "metadata": {},
   "outputs": [],
   "source": [
    "# Step 9: Change the names of columns \"ProductID\" and \"UserID\"\n",
    "df.rename(columns={'ProductID': 'ItemID', 'UserID': 'CustomerID'}, inplace=True)"
   ]
  },
  {
   "cell_type": "code",
   "execution_count": 17,
   "id": "eb614118-fea2-4f9f-96e8-b86c63a434dc",
   "metadata": {},
   "outputs": [
    {
     "name": "stdout",
     "output_type": "stream",
     "text": [
      "   TransactionID TransactionDate  UserID  ProductID  Quant\n",
      "0              1      2010-08-21     7.0          2      1\n",
      "1              2      2011-05-26     3.0          4      1\n",
      "2              3      2011-06-16     3.0          3      1\n",
      "3              4      2012-08-26     1.0          2      3\n",
      "4              5      2013-06-06     2.0          4      1\n",
      "5              6      2013-12-23     2.0          5      6\n",
      "6              7      2013-12-30     3.0          4      1\n",
      "7              8      2014-04-24     NaN          2      3\n",
      "8              9      2015-04-24     7.0          4      3\n",
      "9             10      2016-05-08     3.0          4      4\n"
     ]
    }
   ],
   "source": [
    "print(df)"
   ]
  },
  {
   "cell_type": "code",
   "execution_count": 22,
   "id": "c0b387ba-fda9-433c-b47e-e156b57e9b68",
   "metadata": {},
   "outputs": [
    {
     "name": "stdout",
     "output_type": "stream",
     "text": [
      "   TransactionID TransactionDate  UserID  ProductID  Quantity\n",
      "0              1      2010-08-21     7.0          2         1\n",
      "1              2      2011-05-26     3.0          4         1\n",
      "2              3      2011-06-16     3.0          3         1\n",
      "3              4      2012-08-26     1.0          2         3\n",
      "4              5      2013-06-06     2.0          4         1\n",
      "5              6      2013-12-23     2.0          5         6\n",
      "6              7      2013-12-30     3.0          4         1\n",
      "7              8      2014-04-24     NaN          2         3\n",
      "8              9      2015-04-24     7.0          4         3\n",
      "9             10      2016-05-08     3.0          4         4\n"
     ]
    }
   ],
   "source": [
    "df.rename(columns={'Quant':'Quantity'},inplace=True) \n",
    "print(df)"
   ]
  },
  {
   "cell_type": "code",
   "execution_count": 23,
   "id": "e7498a4a-cbf5-47ee-a172-f9d91ae84423",
   "metadata": {},
   "outputs": [
    {
     "name": "stdout",
     "output_type": "stream",
     "text": [
      "   TransactionID TransactionDate  UserID  ProductID  Quantity\n",
      "6              7      2013-12-30     3.0          4         1\n",
      "4              5      2013-06-06     2.0          4         1\n",
      "2              3      2011-06-16     3.0          3         1\n",
      "1              2      2011-05-26     3.0          4         1\n",
      "0              1      2010-08-21     7.0          2         1\n",
      "8              9      2015-04-24     7.0          4         3\n",
      "7              8      2014-04-24     NaN          2         3\n",
      "3              4      2012-08-26     1.0          2         3\n",
      "9             10      2016-05-08     3.0          4         4\n",
      "5              6      2013-12-23     2.0          5         6\n"
     ]
    }
   ],
   "source": [
    "# 10. Order rows by Quantity (ascending) and TransactionDate (descending)\n",
    "df_sorted = df.sort_values(by=['Quantity', 'TransactionDate'], ascending=[True, False])\n",
    "print(df_sorted)"
   ]
  },
  {
   "cell_type": "code",
   "execution_count": 29,
   "id": "f8943b88-f6e1-495c-8324-6c1e8f40241e",
   "metadata": {},
   "outputs": [
    {
     "name": "stdout",
     "output_type": "stream",
     "text": [
      "   ProductID  Quantity TransactionDate  TransactionID  UserID\n",
      "0          2         1      2010-08-21              1     7.0\n",
      "1          4         1      2011-05-26              2     3.0\n",
      "2          3         1      2011-06-16              3     3.0\n",
      "3          2         3      2012-08-26              4     1.0\n",
      "4          4         1      2013-06-06              5     2.0\n",
      "5          5         6      2013-12-23              6     2.0\n",
      "6          4         1      2013-12-30              7     3.0\n",
      "7          2         3      2014-04-24              8     NaN\n",
      "8          4         3      2015-04-24              9     7.0\n",
      "9          4         4      2016-05-08             10     3.0\n"
     ]
    }
   ],
   "source": [
    "#11.Set column order: ProductID, Quantity, TransactionDate, TransactionID, UserID\n",
    "df_reordered = [\"ProductID\", \"Quantity\", \"TransactionDate\", \"TransactionID\", \"UserID\"]\n",
    "print(df[df_reordered])"
   ]
  },
  {
   "cell_type": "code",
   "execution_count": 30,
   "id": "4ed58c80-5898-4038-8da4-a08d193ae58d",
   "metadata": {},
   "outputs": [
    {
     "name": "stdout",
     "output_type": "stream",
     "text": [
      "   UserID  ProductID  Quantity TransactionDate  TransactionID\n",
      "0     7.0          2         1      2010-08-21              1\n",
      "1     3.0          4         1      2011-05-26              2\n",
      "2     3.0          3         1      2011-06-16              3\n",
      "3     1.0          2         3      2012-08-26              4\n",
      "4     2.0          4         1      2013-06-06              5\n"
     ]
    }
   ],
   "source": [
    "# 12. Make UserID the first column\n",
    "column_order = ['UserID', 'ProductID', 'Quantity', 'TransactionDate', 'TransactionID']\n",
    "df_reordered2 = df[column_order]\n",
    "print(df_reordered2.head())"
   ]
  },
  {
   "cell_type": "code",
   "execution_count": 35,
   "id": "44e98539-cbb1-4bd8-bd8a-3012d1949b2d",
   "metadata": {},
   "outputs": [
    {
     "name": "stdout",
     "output_type": "stream",
     "text": [
      "0    2010-08-21\n",
      "1    2011-05-26\n",
      "2    2011-06-16\n",
      "3    2012-08-26\n",
      "4    2013-06-06\n",
      "5    2013-12-23\n",
      "6    2013-12-30\n",
      "7    2014-04-24\n",
      "8    2015-04-24\n",
      "9    2016-05-08\n",
      "Name: TransactionDate, dtype: object\n"
     ]
    }
   ],
   "source": [
    "# 13. Extracting arrays from a DataFrame - Get the 2nd column\n",
    "second_column = df.iloc[:, 1]\n",
    "print(second_column)"
   ]
  },
  {
   "cell_type": "code",
   "execution_count": 36,
   "id": "7bde9631-95b9-48b6-90b6-b800542982c4",
   "metadata": {},
   "outputs": [
    {
     "name": "stdout",
     "output_type": "stream",
     "text": [
      "[2 4 3 2 4 5 4 2 4 4]\n"
     ]
    }
   ],
   "source": [
    "# 14. Get the ProductID array\n",
    "product_id_array = df['ProductID'].values\n",
    "print(product_id_array)"
   ]
  },
  {
   "cell_type": "code",
   "execution_count": 39,
   "id": "cd53a301-3548-4568-96c0-a555accb86bf",
   "metadata": {},
   "outputs": [
    {
     "name": "stdout",
     "output_type": "stream",
     "text": [
      "[2 4 3 2 4 5 4 2 4 4]\n"
     ]
    }
   ],
   "source": [
    "# 15. Get the ProductID array using a variable\n",
    "var_name = \"ProductID\"\n",
    "product_id_array_var = df[var_name].values\n",
    "print(product_id_array_var)"
   ]
  },
  {
   "cell_type": "markdown",
   "id": "de5d9e52-9030-4ad1-ba5c-c97e4b5858f1",
   "metadata": {},
   "source": [
    "#Data Mining Lab Manual AY:19-20 Page 5"
   ]
  },
  {
   "cell_type": "code",
   "execution_count": 43,
   "id": "9789f976-cede-4f35-b439-adba03389ad8",
   "metadata": {},
   "outputs": [
    {
     "name": "stdout",
     "output_type": "stream",
     "text": [
      "\n",
      "Subset rows 1, 3, and 6:\n",
      "    TransactionID TransactionDate  UserID  ProductID  Quantity\n",
      "1              2      2011-05-26     3.0          4         1\n",
      "3              4      2012-08-26     1.0          2         3\n",
      "6              7      2013-12-30     3.0          4         1\n"
     ]
    }
   ],
   "source": [
    "### 16. Subset rows 1, 3, and 6 (indexing starts from 0)\n",
    "subset = df.iloc[[1, 3, 6]]\n",
    "print(\"\\nSubset rows 1, 3, and 6:\\n\", subset)"
   ]
  },
  {
   "cell_type": "code",
   "execution_count": 13,
   "id": "63249027-16ab-4486-ba67-e20af24e571a",
   "metadata": {},
   "outputs": [
    {
     "name": "stdout",
     "output_type": "stream",
     "text": [
      "\n",
      "Subset excluding rows 1, 3, and 6:\n",
      "    TransactionID TransactionDate    UserID  ProductID  Quantity\n",
      "0              1      2010-08-21  7.000000          2         1\n",
      "2              3      2011-06-16  3.000000          3         1\n",
      "4              5      2013-06-06  2.000000          4         1\n",
      "5              6      2013-12-23  2.000000          5         6\n",
      "7              8      2014-04-24  3.444444          2         3\n",
      "8              9      2015-04-24  7.000000          4         3\n",
      "9             10      2016-05-08  3.000000          4         4\n"
     ]
    }
   ],
   "source": [
    "### 17. Subset rows excluding 1, 3, and 6\n",
    "subset = df.drop([1, 3, 6])\n",
    "print(\"\\nSubset excluding rows 1, 3, and 6:\\n\", subset)"
   ]
  },
  {
   "cell_type": "code",
   "execution_count": 16,
   "id": "e9c47d91-c140-4993-9cca-818897592c93",
   "metadata": {},
   "outputs": [
    {
     "name": "stdout",
     "output_type": "stream",
     "text": [
      "First Three Rows:\n",
      "    TransactionID TransactionDate  UserID  ProductID  Quantity\n",
      "0              1      2010-08-21     7.0          2         1\n",
      "1              2      2011-05-26     3.0          4         1\n",
      "2              3      2011-06-16     3.0          3         1\n"
     ]
    }
   ],
   "source": [
    "# 18. Subset the first three rows\n",
    "rows = df.iloc[:3]  \n",
    "print(\"First Three Rows:\\n\",rows)\n"
   ]
  },
  {
   "cell_type": "code",
   "execution_count": 17,
   "id": "e16076d0-3099-4005-8d3b-c8a1060b4b95",
   "metadata": {},
   "outputs": [
    {
     "name": "stdout",
     "output_type": "stream",
     "text": [
      "   TransactionID TransactionDate  UserID  ProductID  Quantity\n",
      "8              9      2015-04-24     7.0          4         3\n",
      "9             10      2016-05-08     3.0          4         4\n"
     ]
    }
   ],
   "source": [
    "# 19. Subset the last 2 rows\n",
    "lastrow= df.iloc[-2:]\n",
    "print(lastrow)"
   ]
  },
  {
   "cell_type": "code",
   "execution_count": 18,
   "id": "2bfc0915-e176-4453-87d2-03af780f391e",
   "metadata": {},
   "outputs": [
    {
     "name": "stdout",
     "output_type": "stream",
     "text": [
      "   TransactionID TransactionDate    UserID  ProductID  Quantity\n",
      "0              1      2010-08-21  7.000000          2         1\n",
      "1              2      2011-05-26  3.000000          4         1\n",
      "2              3      2011-06-16  3.000000          3         1\n",
      "3              4      2012-08-26  1.000000          2         3\n",
      "4              5      2013-06-06  2.000000          4         1\n",
      "5              6      2013-12-23  2.000000          5         6\n",
      "6              7      2013-12-30  3.000000          4         1\n",
      "7              8      2014-04-24  3.444444          2         3\n"
     ]
    }
   ],
   "source": [
    "# 20. Subset rows excluding the last two rows\n",
    "lastrowexclu = df.iloc[:-2]\n",
    "print(lastrowexclu)\n"
   ]
  },
  {
   "cell_type": "code",
   "execution_count": 21,
   "id": "afa2ddf0-de15-4774-87af-4e475abf0764",
   "metadata": {},
   "outputs": [
    {
     "name": "stdout",
     "output_type": "stream",
     "text": [
      "   TransactionID TransactionDate    UserID  ProductID  Quantity\n",
      "3              4      2012-08-26  1.000000          2         3\n",
      "4              5      2013-06-06  2.000000          4         1\n",
      "5              6      2013-12-23  2.000000          5         6\n",
      "6              7      2013-12-30  3.000000          4         1\n",
      "7              8      2014-04-24  3.444444          2         3\n",
      "8              9      2015-04-24  7.000000          4         3\n",
      "9             10      2016-05-08  3.000000          4         4\n"
     ]
    }
   ],
   "source": [
    "### 21. Subset rows excluding the first three rows\n",
    "firstthreerow = df.iloc[3:]\n",
    "print(firstthreerow )"
   ]
  },
  {
   "cell_type": "code",
   "execution_count": 22,
   "id": "b66fde70-51f7-4229-bc65-32524ccba793",
   "metadata": {},
   "outputs": [
    {
     "name": "stdout",
     "output_type": "stream",
     "text": [
      "   TransactionID TransactionDate    UserID  ProductID  Quantity\n",
      "3              4      2012-08-26  1.000000          2         3\n",
      "5              6      2013-12-23  2.000000          5         6\n",
      "7              8      2014-04-24  3.444444          2         3\n",
      "8              9      2015-04-24  7.000000          4         3\n",
      "9             10      2016-05-08  3.000000          4         4\n"
     ]
    }
   ],
   "source": [
    "# 22. Subset rows where Quantity > 1\n",
    "quantity = df[df[\"Quantity\"] > 1]\n",
    "print(quantity)"
   ]
  },
  {
   "cell_type": "code",
   "execution_count": 23,
   "id": "e432de1e-7723-494e-9095-e103765ad992",
   "metadata": {},
   "outputs": [
    {
     "name": "stdout",
     "output_type": "stream",
     "text": [
      "   TransactionID TransactionDate  UserID  ProductID  Quantity\n",
      "4              5      2013-06-06     2.0          4         1\n",
      "5              6      2013-12-23     2.0          5         6\n"
     ]
    }
   ],
   "source": [
    "# 23. Subset rows where UserID = 2\n",
    "userid2 = df[df[\"UserID\"] == 2]\n",
    "print(userid2)\n"
   ]
  },
  {
   "cell_type": "code",
   "execution_count": 25,
   "id": "fb89e267-550b-4c09-bba1-ab07c45dac67",
   "metadata": {},
   "outputs": [
    {
     "name": "stdout",
     "output_type": "stream",
     "text": [
      "   TransactionID TransactionDate  UserID  ProductID  Quantity\n",
      "5              6      2013-12-23     2.0          5         6\n"
     ]
    }
   ],
   "source": [
    "# 24. Subset rows where Quantity > 1 and UserID = 2\n",
    "quantityuserid_2 = df[(df[\"Quantity\"] > 1) & (df[\"UserID\"] == 2)]\n",
    "print(quantityuserid_2)"
   ]
  },
  {
   "cell_type": "code",
   "execution_count": 30,
   "id": "157260b1-cbe4-4513-9a85-fab25d975288",
   "metadata": {},
   "outputs": [
    {
     "name": "stdout",
     "output_type": "stream",
     "text": [
      "   TransactionID TransactionDate    UserID  ProductID  Quantity\n",
      "0              1      2010-08-21  7.000000          2         1\n",
      "1              2      2011-05-26  3.000000          4         1\n",
      "2              3      2011-06-16  3.000000          3         1\n",
      "3              4      2012-08-26  1.000000          2         3\n",
      "5              6      2013-12-23  2.000000          5         6\n",
      "6              7      2013-12-30  3.000000          4         1\n",
      "7              8      2014-04-24  3.444444          2         3\n",
      "8              9      2015-04-24  7.000000          4         3\n",
      "9             10      2016-05-08  3.000000          4         4\n"
     ]
    }
   ],
   "source": [
    "\n",
    "# 25. Subset rows where Quantity + UserID > 3\n",
    "quantityuserid3 = df[(df[\"Quantity\"] + df[\"UserID\"]) > 3]\n",
    "print(quantityuserid3)"
   ]
  },
  {
   "cell_type": "code",
   "execution_count": 37,
   "id": "f0adff5d-9b91-4dc2-a2a2-6fd8b149601d",
   "metadata": {},
   "outputs": [
    {
     "name": "stdout",
     "output_type": "stream",
     "text": [
      "   TransactionID TransactionDate  UserID  ProductID  Quantity\n",
      "0              1      2010-08-21     7.0          2         1\n",
      "2              3      2011-06-16     3.0          3         1\n",
      "4              5      2013-06-06     2.0          4         1\n",
      "6              7      2013-12-30     3.0          4         1\n",
      "8              9      2015-04-24     7.0          4         3\n"
     ]
    }
   ],
   "source": [
    "### 26. Subset rows where an external array, foo, is True\n",
    "fo = [True, False, True, False, True, False, True, False, True, False] \n",
    "s = df[fo]\n",
    "print( s)\n"
   ]
  },
  {
   "cell_type": "code",
   "execution_count": 43,
   "id": "39961d2c-c8fc-4cb1-b42e-782a7feb6dfc",
   "metadata": {},
   "outputs": [
    {
     "name": "stdout",
     "output_type": "stream",
     "text": [
      "   TransactionID TransactionDate  UserID  ProductID  Quantity\n",
      "0              1      2010-08-21     7.0          2         1\n",
      "2              3      2011-06-16     3.0          3         1\n",
      "4              5      2013-06-06     2.0          4         1\n",
      "6              7      2013-12-30     3.0          4         1\n",
      "8              9      2015-04-24     7.0          4         3\n",
      "9             10      2016-05-08     3.0          4         4\n"
     ]
    }
   ],
   "source": [
    "### 27. Subset rows where an external array, bar, is positive\n",
    "bar = [1, -1, 2, -3, 4, 0, 5, -2, 6, 7]  \n",
    "s = df[[b > 0 for b in bar]]\n",
    "print( s)"
   ]
  },
  {
   "cell_type": "code",
   "execution_count": 49,
   "id": "5e4eac61-0da0-43c5-98b9-33e74269b3e3",
   "metadata": {},
   "outputs": [],
   "source": [
    "# Create external arrays foo and bar for demonstration\n",
    "foo = [True, False, True, False, True, False, True, False, True, False] \n",
    "bar = [1, -1, 2, -3, 4, 0, 5, -2, 6, 7]  \n",
    "\n"
   ]
  },
  {
   "cell_type": "code",
   "execution_count": 50,
   "id": "ad347842-533f-4e01-8383-173716c71b56",
   "metadata": {},
   "outputs": [
    {
     "name": "stdout",
     "output_type": "stream",
     "text": [
      "\n",
      "Subset where foo is True OR bar is negative:\n",
      "    TransactionID TransactionDate    UserID  ProductID  Quantity\n",
      "0              1      2010-08-21  7.000000          2         1\n",
      "1              2      2011-05-26  3.000000          4         1\n",
      "2              3      2011-06-16  3.000000          3         1\n",
      "3              4      2012-08-26  1.000000          2         3\n",
      "4              5      2013-06-06  2.000000          4         1\n",
      "6              7      2013-12-30  3.000000          4         1\n",
      "7              8      2014-04-24  3.444444          2         3\n",
      "8              9      2015-04-24  7.000000          4         3\n"
     ]
    },
    {
     "name": "stderr",
     "output_type": "stream",
     "text": [
      "/tmp/ipykernel_3673/1243856924.py:2: FutureWarning: Logical ops (and, or, xor) between Pandas objects and dtype-less sequences (e.g. list, tuple) are deprecated and will raise in a future version. Wrap the object in a Series, Index, or np.array before operating instead.\n",
      "  subset_foo_true_or_bar_negative = df[(foo) | (pd.Series(bar) < 0)]\n"
     ]
    }
   ],
   "source": [
    "### 28. Subset rows where foo is True OR bar is negative\n",
    "subset_foo_true_or_bar_negative = df[(foo) | (pd.Series(bar) < 0)]\n",
    "print(\"\\nSubset where foo is True OR bar is negative:\\n\", subset_foo_true_or_bar_negative)\n"
   ]
  },
  {
   "cell_type": "code",
   "execution_count": 53,
   "id": "7ace164e-9899-49fb-a907-f9cda3a0c8db",
   "metadata": {},
   "outputs": [
    {
     "name": "stdout",
     "output_type": "stream",
     "text": [
      "   TransactionID TransactionDate  UserID  ProductID  Quantity\n",
      "5              6      2013-12-23     2.0          5         6\n",
      "9             10      2016-05-08     3.0          4         4\n"
     ]
    }
   ],
   "source": [
    "### 29. Subset rows where foo is NOT True AND bar is NOT negative\n",
    "s= df[(~pd.Series(foo)) & (pd.Series(bar) >= 0)]\n",
    "print(s)\n"
   ]
  },
  {
   "cell_type": "code",
   "execution_count": 54,
   "id": "6eab3a49-9c18-49b3-b0a0-3c4882839f56",
   "metadata": {},
   "outputs": [
    {
     "name": "stdout",
     "output_type": "stream",
     "text": [
      "  TransactionDate  ProductID\n",
      "0      2010-08-21          2\n",
      "1      2011-05-26          4\n",
      "2      2011-06-16          3\n",
      "3      2012-08-26          2\n",
      "4      2013-06-06          4\n",
      "5      2013-12-23          5\n",
      "6      2013-12-30          4\n",
      "7      2014-04-24          2\n",
      "8      2015-04-24          4\n",
      "9      2016-05-08          4\n"
     ]
    }
   ],
   "source": [
    "### 30. Subset by columns 1 and 3 (index-based)\n",
    "subset_cols_1_3 = df.iloc[:, [1, 3]]\n",
    "print(subset_cols_1_3)\n"
   ]
  },
  {
   "cell_type": "code",
   "execution_count": 56,
   "id": "7a1b6642-84b5-4444-94a1-0c76e202139c",
   "metadata": {},
   "outputs": [
    {
     "name": "stdout",
     "output_type": "stream",
     "text": [
      "   TransactionID TransactionDate\n",
      "0              1      2010-08-21\n",
      "1              2      2011-05-26\n",
      "2              3      2011-06-16\n",
      "3              4      2012-08-26\n",
      "4              5      2013-06-06\n",
      "5              6      2013-12-23\n",
      "6              7      2013-12-30\n",
      "7              8      2014-04-24\n",
      "8              9      2015-04-24\n",
      "9             10      2016-05-08\n"
     ]
    }
   ],
   "source": [
    "### 31. Subset by columns TransactionID and TransactionDate (name-based)\n",
    "s = df[['TransactionID', 'TransactionDate']]\n",
    "print( s)"
   ]
  },
  {
   "cell_type": "code",
   "execution_count": 57,
   "id": "f69998af-b2b8-49a2-9a67-94a42c5ee1d6",
   "metadata": {},
   "outputs": [
    {
     "name": "stdout",
     "output_type": "stream",
     "text": [
      "   TransactionID TransactionDate\n",
      "2              3      2011-06-16\n",
      "3              4      2012-08-26\n",
      "4              5      2013-06-06\n",
      "5              6      2013-12-23\n",
      "6              7      2013-12-30\n",
      "7              8      2014-04-24\n",
      "8              9      2015-04-24\n",
      "9             10      2016-05-08\n"
     ]
    }
   ],
   "source": [
    "### 32. Subset by TransactionID and TransactionDate with logical operator\n",
    "s = df.loc[df['TransactionID'] > 2, ['TransactionID', 'TransactionDate']]\n",
    "print(s)\n"
   ]
  },
  {
   "cell_type": "code",
   "execution_count": 58,
   "id": "c71a7852-16f3-4836-82c4-f91dd3bba879",
   "metadata": {},
   "outputs": [
    {
     "name": "stdout",
     "output_type": "stream",
     "text": [
      "   TransactionID  ProductID  Quantity\n",
      "0              1          2         1\n",
      "1              2          4         1\n",
      "2              3          3         1\n",
      "3              4          2         3\n",
      "4              5          4         1\n",
      "5              6          5         6\n",
      "6              7          4         1\n",
      "7              8          2         3\n",
      "8              9          4         3\n",
      "9             10          4         4\n"
     ]
    }
   ],
   "source": [
    "### 33. Subset columns by a variable list of column names\n",
    "ss= ['TransactionID', 'ProductID', 'Quantity']\n",
    "sss = df[ss]\n",
    "print(sss)"
   ]
  },
  {
   "cell_type": "code",
   "execution_count": 59,
   "id": "28c3c255-f283-4730-b758-7fa358912563",
   "metadata": {},
   "outputs": [
    {
     "name": "stdout",
     "output_type": "stream",
     "text": [
      "   TransactionID TransactionDate  ProductID\n",
      "0              1      2010-08-21          2\n",
      "1              2      2011-05-26          4\n",
      "2              3      2011-06-16          3\n",
      "3              4      2012-08-26          2\n",
      "4              5      2013-06-06          4\n",
      "5              6      2013-12-23          5\n",
      "6              7      2013-12-30          4\n",
      "7              8      2014-04-24          2\n",
      "8              9      2015-04-24          4\n",
      "9             10      2016-05-08          4\n"
     ]
    }
   ],
   "source": [
    "## 34. Subset columns excluding a variable list of column names\n",
    "ss = ['UserID', 'Quantity']\n",
    "s = df.drop(columns=ss)\n",
    "print(s)"
   ]
  },
  {
   "cell_type": "code",
   "execution_count": 60,
   "id": "dbe2dd5d-b4e9-468b-bc4f-06b57288355f",
   "metadata": {},
   "outputs": [
    {
     "name": "stdout",
     "output_type": "stream",
     "text": [
      "   TransactionID TransactionDate  UserID  ProductID  Quantity\n",
      "0              1      2010-08-21     7.0          2        99\n",
      "1              2      2011-05-26     3.0          4         1\n",
      "2              3      2011-06-16     3.0         10         1\n",
      "3              4      2012-08-26     1.0          2         3\n",
      "4              5      2013-06-06     2.0          4         1\n"
     ]
    }
   ],
   "source": [
    "### 35. Inserting and updating values\n",
    "df.loc[0, 'Quantity'] = 99  \n",
    "df.loc[df['TransactionID'] == 3, 'ProductID'] = 10 \n",
    "print(df.head())\n"
   ]
  },
  {
   "cell_type": "code",
   "execution_count": 61,
   "id": "cef5bf71-9b3e-4f17-8307-74d1b726fc8f",
   "metadata": {},
   "outputs": [
    {
     "name": "stdout",
     "output_type": "stream",
     "text": [
      "TransactionID               int64\n",
      "TransactionDate    datetime64[ns]\n",
      "UserID                    float64\n",
      "ProductID                   int64\n",
      "Quantity                    int64\n",
      "dtype: object\n"
     ]
    }
   ],
   "source": [
    "### 36. Convert the TransactionDate column to type Date\n",
    "df['TransactionDate'] = pd.to_datetime(df['TransactionDate'])\n",
    "print(df.dtypes)\n"
   ]
  },
  {
   "cell_type": "code",
   "execution_count": 62,
   "id": "6144dcd7-0998-497b-9b21-b8bb41568c39",
   "metadata": {},
   "outputs": [
    {
     "name": "stdout",
     "output_type": "stream",
     "text": [
      "   TransactionID TransactionDate  UserID  ProductID  Quantity   Foo\n",
      "0              1      2010-08-21     7.0          2        99   9.0\n",
      "1              2      2011-05-26     3.0          4         1   7.0\n",
      "2              3      2011-06-16     3.0         10         1  13.0\n",
      "3              4      2012-08-26     1.0          2         3   3.0\n",
      "4              5      2013-06-06     2.0          4         1   6.0\n"
     ]
    }
   ],
   "source": [
    "### 37. Insert a new column Foo = UserID + ProductID\n",
    "df['Foo'] = df['UserID'] + df['ProductID']\n",
    "print(df.head())"
   ]
  },
  {
   "cell_type": "code",
   "execution_count": null,
   "id": "c62dcb56-1163-4565-9e9c-8be5510e7b6b",
   "metadata": {},
   "outputs": [],
   "source": []
  }
 ],
 "metadata": {
  "kernelspec": {
   "display_name": "Python 3 (ipykernel)",
   "language": "python",
   "name": "python3"
  },
  "language_info": {
   "codemirror_mode": {
    "name": "ipython",
    "version": 3
   },
   "file_extension": ".py",
   "mimetype": "text/x-python",
   "name": "python",
   "nbconvert_exporter": "python",
   "pygments_lexer": "ipython3",
   "version": "3.11.7"
  }
 },
 "nbformat": 4,
 "nbformat_minor": 5
}
